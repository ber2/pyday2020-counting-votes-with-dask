{
 "cells": [
  {
   "cell_type": "markdown",
   "metadata": {},
   "source": [
    "# STOP THE COUNT!\n",
    "\n",
    "Let us count only the votes emitted before 18:00."
   ]
  },
  {
   "cell_type": "code",
   "execution_count": null,
   "metadata": {},
   "outputs": [],
   "source": [
    "import pandas as pd\n",
    "import dask.dataframe as dd"
   ]
  },
  {
   "cell_type": "code",
   "execution_count": null,
   "metadata": {},
   "outputs": [],
   "source": [
    "# Your cluster here."
   ]
  },
  {
   "cell_type": "code",
   "execution_count": null,
   "metadata": {},
   "outputs": [],
   "source": [
    "client.restart()"
   ]
  },
  {
   "cell_type": "code",
   "execution_count": null,
   "metadata": {},
   "outputs": [],
   "source": [
    "def get_winner(count_per_region: pd.DataFrame) -> pd.Series:\n",
    "    results = list()\n",
    "    for region, df in count_per_region.groupby(\"region\"):\n",
    "        results.append(\n",
    "            {\"region\": region,\n",
    "             \"winner\": df.set_index(\"vote\").result.idxmax()}\n",
    "        )\n",
    "\n",
    "    winner_per_region = pd.DataFrame(results)\n",
    "    delegates_per_region = pd.read_csv(\"data/region_delegates.csv\")\n",
    "    winner_region_delegates = pd.merge(winner_per_region, delegates_per_region, on=\"region\")\n",
    "    return (winner_region_delegates\n",
    "            .groupby(\"winner\")\n",
    "            .delegates.sum()\n",
    "            .sort_values(ascending=False))    "
   ]
  },
  {
   "cell_type": "code",
   "execution_count": null,
   "metadata": {},
   "outputs": [],
   "source": [
    "data = dd.read_csv(\"data/votes_*.csv\",\n",
    "                   usecols=[\"timestamp\", \"region\", \"vote\"],\n",
    "                   parse_dates=[\"timestamp\"],\n",
    "                   dtype={\"region\": \"category\", \"vote\": \"category\"})\n",
    "data[\"result\"] = 1"
   ]
  },
  {
   "cell_type": "markdown",
   "metadata": {},
   "source": [
    "## Is there a basis for the claim?"
   ]
  },
  {
   "cell_type": "code",
   "execution_count": null,
   "metadata": {},
   "outputs": [],
   "source": [
    "data[\"hour\"] = data[\"timestamp\"].dt.hour"
   ]
  },
  {
   "cell_type": "code",
   "execution_count": null,
   "metadata": {},
   "outputs": [],
   "source": [
    "(data[data[\"vote\"] == \"blue\"]\n",
    " .groupby(\"hour\")\n",
    " .result.agg(\"count\")\n",
    " .compute()\n",
    " .plot(kind=\"bar\"))"
   ]
  },
  {
   "cell_type": "markdown",
   "metadata": {},
   "source": [
    "The one thing that changes is that here we will filter before aggregating."
   ]
  },
  {
   "cell_type": "code",
   "execution_count": null,
   "metadata": {},
   "outputs": [],
   "source": [
    "count_per_region_before_17 = (\n",
    "    data[data.timestamp.dt.hour < 17]\n",
    "    .groupby([\"region\", \"vote\"])\n",
    "    .result.agg(\"count\")\n",
    "    .reset_index()\n",
    ")"
   ]
  },
  {
   "cell_type": "code",
   "execution_count": null,
   "metadata": {},
   "outputs": [],
   "source": [
    "count_per_region_before_17_computed = count_per_region_before_17.compute()"
   ]
  },
  {
   "cell_type": "code",
   "execution_count": null,
   "metadata": {},
   "outputs": [],
   "source": [
    "get_winner(count_per_region_before_17_computed)"
   ]
  }
 ],
 "metadata": {
  "kernelspec": {
   "display_name": "Python 3",
   "language": "python",
   "name": "python3"
  },
  "language_info": {
   "codemirror_mode": {
    "name": "ipython",
    "version": 3
   },
   "file_extension": ".py",
   "mimetype": "text/x-python",
   "name": "python",
   "nbconvert_exporter": "python",
   "pygments_lexer": "ipython3",
   "version": "3.8.2"
  }
 },
 "nbformat": 4,
 "nbformat_minor": 4
}
